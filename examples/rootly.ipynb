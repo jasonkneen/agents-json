{
 "cells": [
  {
   "cell_type": "markdown",
   "metadata": {},
   "source": [
    "# Use Stripe with agents.json\n",
    "This notebook demonstrates how to use agents.json to interact with the Stripe API. This simple example shows loading the agents.json file and using it to execute Stripe tasks.\n"
   ]
  },
  {
   "cell_type": "code",
   "execution_count": 1,
   "metadata": {},
   "outputs": [
    {
     "name": "stdout",
     "output_type": "stream",
     "text": [
      "Requirement already satisfied: agentsjson in /Users/yagnyapatel/Projects/Wildcard/agents-json/.venv/lib/python3.13/site-packages (0.1.1)\n",
      "Requirement already satisfied: google-api-python-client<3.0.0,>=2.0.0 in /Users/yagnyapatel/Projects/Wildcard/agents-json/.venv/lib/python3.13/site-packages (from agentsjson) (2.160.0)\n",
      "Requirement already satisfied: pydantic<3.0.0,>=2.0.0 in /Users/yagnyapatel/Projects/Wildcard/agents-json/.venv/lib/python3.13/site-packages (from agentsjson) (2.10.6)\n",
      "Requirement already satisfied: pympler<2.0,>=1.1 in /Users/yagnyapatel/Projects/Wildcard/agents-json/.venv/lib/python3.13/site-packages (from agentsjson) (1.1)\n",
      "Requirement already satisfied: python-benedict<0.34.0,>=0.33.0 in /Users/yagnyapatel/Projects/Wildcard/agents-json/.venv/lib/python3.13/site-packages (from agentsjson) (0.33.2)\n",
      "Requirement already satisfied: pyyaml<7.0.0,>=6.0.0 in /Users/yagnyapatel/Projects/Wildcard/agents-json/.venv/lib/python3.13/site-packages (from agentsjson) (6.0.2)\n",
      "Requirement already satisfied: requests<3.0.0,>=2.0.0 in /Users/yagnyapatel/Projects/Wildcard/agents-json/.venv/lib/python3.13/site-packages (from agentsjson) (2.32.2)\n",
      "Requirement already satisfied: six<2.0.0,>=1.16.0 in /Users/yagnyapatel/Projects/Wildcard/agents-json/.venv/lib/python3.13/site-packages (from agentsjson) (1.17.0)\n",
      "Requirement already satisfied: stripe==7.11.0 in /Users/yagnyapatel/Projects/Wildcard/agents-json/.venv/lib/python3.13/site-packages (from agentsjson) (7.11.0)\n",
      "Requirement already satisfied: tweepy<5.0.0,>=4.0.0 in /Users/yagnyapatel/Projects/Wildcard/agents-json/.venv/lib/python3.13/site-packages (from agentsjson) (4.15.0)\n",
      "Requirement already satisfied: typing-extensions<5.0.0,>=4.0.0 in /Users/yagnyapatel/Projects/Wildcard/agents-json/.venv/lib/python3.13/site-packages (from agentsjson) (4.12.2)\n",
      "Requirement already satisfied: httplib2<1.dev0,>=0.19.0 in /Users/yagnyapatel/Projects/Wildcard/agents-json/.venv/lib/python3.13/site-packages (from google-api-python-client<3.0.0,>=2.0.0->agentsjson) (0.22.0)\n",
      "Requirement already satisfied: google-auth!=2.24.0,!=2.25.0,<3.0.0.dev0,>=1.32.0 in /Users/yagnyapatel/Projects/Wildcard/agents-json/.venv/lib/python3.13/site-packages (from google-api-python-client<3.0.0,>=2.0.0->agentsjson) (2.38.0)\n",
      "Requirement already satisfied: google-auth-httplib2<1.0.0,>=0.2.0 in /Users/yagnyapatel/Projects/Wildcard/agents-json/.venv/lib/python3.13/site-packages (from google-api-python-client<3.0.0,>=2.0.0->agentsjson) (0.2.0)\n",
      "Requirement already satisfied: google-api-core!=2.0.*,!=2.1.*,!=2.2.*,!=2.3.0,<3.0.0.dev0,>=1.31.5 in /Users/yagnyapatel/Projects/Wildcard/agents-json/.venv/lib/python3.13/site-packages (from google-api-python-client<3.0.0,>=2.0.0->agentsjson) (2.24.1)\n",
      "Requirement already satisfied: uritemplate<5,>=3.0.1 in /Users/yagnyapatel/Projects/Wildcard/agents-json/.venv/lib/python3.13/site-packages (from google-api-python-client<3.0.0,>=2.0.0->agentsjson) (4.1.1)\n",
      "Requirement already satisfied: annotated-types>=0.6.0 in /Users/yagnyapatel/Projects/Wildcard/agents-json/.venv/lib/python3.13/site-packages (from pydantic<3.0.0,>=2.0.0->agentsjson) (0.7.0)\n",
      "Requirement already satisfied: pydantic-core==2.27.2 in /Users/yagnyapatel/Projects/Wildcard/agents-json/.venv/lib/python3.13/site-packages (from pydantic<3.0.0,>=2.0.0->agentsjson) (2.27.2)\n",
      "Requirement already satisfied: python-fsutil<1.0.0,>=0.9.3 in /Users/yagnyapatel/Projects/Wildcard/agents-json/.venv/lib/python3.13/site-packages (from python-benedict<0.34.0,>=0.33.0->agentsjson) (0.14.1)\n",
      "Requirement already satisfied: python-slugify<9.0.0,>=7.0.0 in /Users/yagnyapatel/Projects/Wildcard/agents-json/.venv/lib/python3.13/site-packages (from python-benedict<0.34.0,>=0.33.0->agentsjson) (8.0.4)\n",
      "Requirement already satisfied: charset-normalizer<4,>=2 in /Users/yagnyapatel/Projects/Wildcard/agents-json/.venv/lib/python3.13/site-packages (from requests<3.0.0,>=2.0.0->agentsjson) (3.4.1)\n",
      "Requirement already satisfied: idna<4,>=2.5 in /Users/yagnyapatel/Projects/Wildcard/agents-json/.venv/lib/python3.13/site-packages (from requests<3.0.0,>=2.0.0->agentsjson) (3.10)\n",
      "Requirement already satisfied: urllib3<3,>=1.21.1 in /Users/yagnyapatel/Projects/Wildcard/agents-json/.venv/lib/python3.13/site-packages (from requests<3.0.0,>=2.0.0->agentsjson) (2.3.0)\n",
      "Requirement already satisfied: certifi>=2017.4.17 in /Users/yagnyapatel/Projects/Wildcard/agents-json/.venv/lib/python3.13/site-packages (from requests<3.0.0,>=2.0.0->agentsjson) (2024.12.14)\n",
      "Requirement already satisfied: oauthlib<4,>=3.2.0 in /Users/yagnyapatel/Projects/Wildcard/agents-json/.venv/lib/python3.13/site-packages (from tweepy<5.0.0,>=4.0.0->agentsjson) (3.2.2)\n",
      "Requirement already satisfied: requests-oauthlib<3,>=1.2.0 in /Users/yagnyapatel/Projects/Wildcard/agents-json/.venv/lib/python3.13/site-packages (from tweepy<5.0.0,>=4.0.0->agentsjson) (2.0.0)\n",
      "Requirement already satisfied: googleapis-common-protos<2.0.dev0,>=1.56.2 in /Users/yagnyapatel/Projects/Wildcard/agents-json/.venv/lib/python3.13/site-packages (from google-api-core!=2.0.*,!=2.1.*,!=2.2.*,!=2.3.0,<3.0.0.dev0,>=1.31.5->google-api-python-client<3.0.0,>=2.0.0->agentsjson) (1.66.0)\n",
      "Requirement already satisfied: protobuf!=3.20.0,!=3.20.1,!=4.21.0,!=4.21.1,!=4.21.2,!=4.21.3,!=4.21.4,!=4.21.5,<6.0.0.dev0,>=3.19.5 in /Users/yagnyapatel/Projects/Wildcard/agents-json/.venv/lib/python3.13/site-packages (from google-api-core!=2.0.*,!=2.1.*,!=2.2.*,!=2.3.0,<3.0.0.dev0,>=1.31.5->google-api-python-client<3.0.0,>=2.0.0->agentsjson) (5.29.3)\n",
      "Requirement already satisfied: proto-plus<2.0.0dev,>=1.22.3 in /Users/yagnyapatel/Projects/Wildcard/agents-json/.venv/lib/python3.13/site-packages (from google-api-core!=2.0.*,!=2.1.*,!=2.2.*,!=2.3.0,<3.0.0.dev0,>=1.31.5->google-api-python-client<3.0.0,>=2.0.0->agentsjson) (1.26.0)\n",
      "Requirement already satisfied: cachetools<6.0,>=2.0.0 in /Users/yagnyapatel/Projects/Wildcard/agents-json/.venv/lib/python3.13/site-packages (from google-auth!=2.24.0,!=2.25.0,<3.0.0.dev0,>=1.32.0->google-api-python-client<3.0.0,>=2.0.0->agentsjson) (5.5.1)\n",
      "Requirement already satisfied: pyasn1-modules>=0.2.1 in /Users/yagnyapatel/Projects/Wildcard/agents-json/.venv/lib/python3.13/site-packages (from google-auth!=2.24.0,!=2.25.0,<3.0.0.dev0,>=1.32.0->google-api-python-client<3.0.0,>=2.0.0->agentsjson) (0.4.1)\n",
      "Requirement already satisfied: rsa<5,>=3.1.4 in /Users/yagnyapatel/Projects/Wildcard/agents-json/.venv/lib/python3.13/site-packages (from google-auth!=2.24.0,!=2.25.0,<3.0.0.dev0,>=1.32.0->google-api-python-client<3.0.0,>=2.0.0->agentsjson) (4.9)\n",
      "Requirement already satisfied: pyparsing!=3.0.0,!=3.0.1,!=3.0.2,!=3.0.3,<4,>=2.4.2 in /Users/yagnyapatel/Projects/Wildcard/agents-json/.venv/lib/python3.13/site-packages (from httplib2<1.dev0,>=0.19.0->google-api-python-client<3.0.0,>=2.0.0->agentsjson) (3.2.1)\n",
      "Requirement already satisfied: text-unidecode>=1.3 in /Users/yagnyapatel/Projects/Wildcard/agents-json/.venv/lib/python3.13/site-packages (from python-slugify<9.0.0,>=7.0.0->python-benedict<0.34.0,>=0.33.0->agentsjson) (1.3)\n",
      "Requirement already satisfied: pyasn1<0.7.0,>=0.4.6 in /Users/yagnyapatel/Projects/Wildcard/agents-json/.venv/lib/python3.13/site-packages (from pyasn1-modules>=0.2.1->google-auth!=2.24.0,!=2.25.0,<3.0.0.dev0,>=1.32.0->google-api-python-client<3.0.0,>=2.0.0->agentsjson) (0.6.1)\n",
      "\n",
      "\u001b[1m[\u001b[0m\u001b[34;49mnotice\u001b[0m\u001b[1;39;49m]\u001b[0m\u001b[39;49m A new release of pip is available: \u001b[0m\u001b[31;49m24.3.1\u001b[0m\u001b[39;49m -> \u001b[0m\u001b[32;49m25.0\u001b[0m\n",
      "\u001b[1m[\u001b[0m\u001b[34;49mnotice\u001b[0m\u001b[1;39;49m]\u001b[0m\u001b[39;49m To update, run: \u001b[0m\u001b[32;49mpip install --upgrade pip\u001b[0m\n",
      "Note: you may need to restart the kernel to use updated packages.\n",
      "Requirement already satisfied: openai in /Users/yagnyapatel/Projects/Wildcard/agents-json/.venv/lib/python3.13/site-packages (1.61.0)\n",
      "Requirement already satisfied: anyio<5,>=3.5.0 in /Users/yagnyapatel/Projects/Wildcard/agents-json/.venv/lib/python3.13/site-packages (from openai) (4.8.0)\n",
      "Requirement already satisfied: distro<2,>=1.7.0 in /Users/yagnyapatel/Projects/Wildcard/agents-json/.venv/lib/python3.13/site-packages (from openai) (1.9.0)\n",
      "Requirement already satisfied: httpx<1,>=0.23.0 in /Users/yagnyapatel/Projects/Wildcard/agents-json/.venv/lib/python3.13/site-packages (from openai) (0.28.1)\n",
      "Requirement already satisfied: jiter<1,>=0.4.0 in /Users/yagnyapatel/Projects/Wildcard/agents-json/.venv/lib/python3.13/site-packages (from openai) (0.8.2)\n",
      "Requirement already satisfied: pydantic<3,>=1.9.0 in /Users/yagnyapatel/Projects/Wildcard/agents-json/.venv/lib/python3.13/site-packages (from openai) (2.10.6)\n",
      "Requirement already satisfied: sniffio in /Users/yagnyapatel/Projects/Wildcard/agents-json/.venv/lib/python3.13/site-packages (from openai) (1.3.1)\n",
      "Requirement already satisfied: tqdm>4 in /Users/yagnyapatel/Projects/Wildcard/agents-json/.venv/lib/python3.13/site-packages (from openai) (4.67.1)\n",
      "Requirement already satisfied: typing-extensions<5,>=4.11 in /Users/yagnyapatel/Projects/Wildcard/agents-json/.venv/lib/python3.13/site-packages (from openai) (4.12.2)\n",
      "Requirement already satisfied: idna>=2.8 in /Users/yagnyapatel/Projects/Wildcard/agents-json/.venv/lib/python3.13/site-packages (from anyio<5,>=3.5.0->openai) (3.10)\n",
      "Requirement already satisfied: certifi in /Users/yagnyapatel/Projects/Wildcard/agents-json/.venv/lib/python3.13/site-packages (from httpx<1,>=0.23.0->openai) (2024.12.14)\n",
      "Requirement already satisfied: httpcore==1.* in /Users/yagnyapatel/Projects/Wildcard/agents-json/.venv/lib/python3.13/site-packages (from httpx<1,>=0.23.0->openai) (1.0.7)\n",
      "Requirement already satisfied: h11<0.15,>=0.13 in /Users/yagnyapatel/Projects/Wildcard/agents-json/.venv/lib/python3.13/site-packages (from httpcore==1.*->httpx<1,>=0.23.0->openai) (0.14.0)\n",
      "Requirement already satisfied: annotated-types>=0.6.0 in /Users/yagnyapatel/Projects/Wildcard/agents-json/.venv/lib/python3.13/site-packages (from pydantic<3,>=1.9.0->openai) (0.7.0)\n",
      "Requirement already satisfied: pydantic-core==2.27.2 in /Users/yagnyapatel/Projects/Wildcard/agents-json/.venv/lib/python3.13/site-packages (from pydantic<3,>=1.9.0->openai) (2.27.2)\n",
      "\n",
      "\u001b[1m[\u001b[0m\u001b[34;49mnotice\u001b[0m\u001b[1;39;49m]\u001b[0m\u001b[39;49m A new release of pip is available: \u001b[0m\u001b[31;49m24.3.1\u001b[0m\u001b[39;49m -> \u001b[0m\u001b[32;49m25.0\u001b[0m\n",
      "\u001b[1m[\u001b[0m\u001b[34;49mnotice\u001b[0m\u001b[1;39;49m]\u001b[0m\u001b[39;49m To update, run: \u001b[0m\u001b[32;49mpip install --upgrade pip\u001b[0m\n",
      "Note: you may need to restart the kernel to use updated packages.\n"
     ]
    }
   ],
   "source": [
    "%pip install agentsjson\n",
    "%pip install openai"
   ]
  },
  {
   "cell_type": "markdown",
   "metadata": {},
   "source": [
    "### Setup API keys and references to `agents.json` files"
   ]
  },
  {
   "cell_type": "code",
   "execution_count": null,
   "metadata": {},
   "outputs": [],
   "source": [
    "ROOTLY_API_KEY=\"your_rootly_api_key\"\n",
    "OPENAI_API_KEY=\"your_openai_api_key\"\n",
    "agents_json_url = \"https://gist.githubusercontent.com/yagnyaPatel/f21f8c0a6c221213584bbb7a99a0e1dc/raw/bbfbe41c80042722ee65602d7b839a7787fa6007/agents.json\""
   ]
  },
  {
   "cell_type": "markdown",
   "metadata": {},
   "source": [
    "### Load the agents.json file"
   ]
  },
  {
   "cell_type": "code",
   "execution_count": 5,
   "metadata": {},
   "outputs": [],
   "source": [
    "from agentsjson.core.models import Flow\n",
    "from agentsjson.core.models.bundle import Bundle\n",
    "import agentsjson.core as core\n",
    "\n",
    "# load the agents.json file\n",
    "data: Bundle = core.load_agents_json(agents_json_url)\n",
    "flows = data.agentsJson.flows"
   ]
  },
  {
   "cell_type": "markdown",
   "metadata": {},
   "source": [
    "### Define the Agent"
   ]
  },
  {
   "cell_type": "code",
   "execution_count": 6,
   "metadata": {},
   "outputs": [],
   "source": [
    "query = \"Get me the incident details on the prod outage\""
   ]
  },
  {
   "cell_type": "code",
   "execution_count": 7,
   "metadata": {},
   "outputs": [],
   "source": [
    "from agentsjson.core import ToolFormat\n",
    "\n",
    "# Format the flows data for the prompt\n",
    "flows_context = core.flows_prompt(flows)\n",
    "\n",
    "# Create the system prompt\n",
    "system_prompt = f\"\"\"You are an AI assistant that helps users interact with the Rootly API.\n",
    "You have access to the following API flows:\n",
    "\n",
    "{flows_context}\n",
    "\n",
    "Analyze the user's request and use the appropriate API flows to accomplish the task.\n",
    "You must give your arguments for the tool call as Structued Outputs JSON with keys `parameters` and `requestBody`\"\"\""
   ]
  },
  {
   "cell_type": "markdown",
   "metadata": {},
   "source": [
    "### Configure Auth"
   ]
  },
  {
   "cell_type": "code",
   "execution_count": 8,
   "metadata": {},
   "outputs": [],
   "source": [
    "from agentsjson.core.models.auth import AuthType, BearerAuthConfig\n",
    "auth = BearerAuthConfig(type=AuthType.BEARER, token=ROOTLY_API_KEY)"
   ]
  },
  {
   "cell_type": "markdown",
   "metadata": {},
   "source": [
    "### Run the agent"
   ]
  },
  {
   "cell_type": "code",
   "execution_count": 9,
   "metadata": {},
   "outputs": [
    {
     "ename": "ModuleNotFoundError",
     "evalue": "No module named 'agentsjson.integrations.rootly'",
     "output_type": "error",
     "traceback": [
      "\u001b[0;31m---------------------------------------------------------------------------\u001b[0m",
      "\u001b[0;31mModuleNotFoundError\u001b[0m                       Traceback (most recent call last)",
      "Cell \u001b[0;32mIn[9], line 15\u001b[0m\n\u001b[1;32m      3\u001b[0m client \u001b[38;5;241m=\u001b[39m OpenAI(api_key\u001b[38;5;241m=\u001b[39mOPENAI_API_KEY)\n\u001b[1;32m      5\u001b[0m response \u001b[38;5;241m=\u001b[39m client\u001b[38;5;241m.\u001b[39mchat\u001b[38;5;241m.\u001b[39mcompletions\u001b[38;5;241m.\u001b[39mcreate(\n\u001b[1;32m      6\u001b[0m     model\u001b[38;5;241m=\u001b[39m\u001b[38;5;124m\"\u001b[39m\u001b[38;5;124mgpt-4o\u001b[39m\u001b[38;5;124m\"\u001b[39m,\n\u001b[1;32m      7\u001b[0m     messages\u001b[38;5;241m=\u001b[39m[\n\u001b[0;32m   (...)\u001b[0m\n\u001b[1;32m     12\u001b[0m     temperature\u001b[38;5;241m=\u001b[39m\u001b[38;5;241m0\u001b[39m\n\u001b[1;32m     13\u001b[0m )\n\u001b[0;32m---> 15\u001b[0m response \u001b[38;5;241m=\u001b[39m \u001b[43mexecute_flows\u001b[49m\u001b[43m(\u001b[49m\u001b[43mresponse\u001b[49m\u001b[43m,\u001b[49m\u001b[43m \u001b[49m\u001b[38;5;28;43mformat\u001b[39;49m\u001b[38;5;241;43m=\u001b[39;49m\u001b[43mcore\u001b[49m\u001b[38;5;241;43m.\u001b[39;49m\u001b[43mToolFormat\u001b[49m\u001b[38;5;241;43m.\u001b[39;49m\u001b[43mOPENAI\u001b[49m\u001b[43m,\u001b[49m\u001b[43m \u001b[49m\u001b[43mbundle\u001b[49m\u001b[38;5;241;43m=\u001b[39;49m\u001b[43mdata\u001b[49m\u001b[43m,\u001b[49m\u001b[43m \u001b[49m\u001b[43mflows\u001b[49m\u001b[38;5;241;43m=\u001b[39;49m\u001b[43mflows\u001b[49m\u001b[43m,\u001b[49m\u001b[43m \u001b[49m\u001b[43mauth\u001b[49m\u001b[38;5;241;43m=\u001b[39;49m\u001b[43mauth\u001b[49m\u001b[43m)\u001b[49m\n\u001b[1;32m     17\u001b[0m response\n",
      "File \u001b[0;32m~/Projects/Wildcard/agents-json/python/agentsjson/core/executor.py:196\u001b[0m, in \u001b[0;36mexecute_flows\u001b[0;34m(response, format, bundle, flows, auth)\u001b[0m\n\u001b[1;32m    194\u001b[0m         parameters \u001b[38;5;241m=\u001b[39m args_dict\u001b[38;5;241m.\u001b[39mget(\u001b[38;5;124m\"\u001b[39m\u001b[38;5;124mparameters\u001b[39m\u001b[38;5;124m\"\u001b[39m, {})\n\u001b[1;32m    195\u001b[0m         requestBody \u001b[38;5;241m=\u001b[39m args_dict\u001b[38;5;241m.\u001b[39mget(\u001b[38;5;124m\"\u001b[39m\u001b[38;5;124mrequestBody\u001b[39m\u001b[38;5;124m\"\u001b[39m, {})\n\u001b[0;32m--> 196\u001b[0m     results[flow\u001b[38;5;241m.\u001b[39mid] \u001b[38;5;241m=\u001b[39m \u001b[43mexecute\u001b[49m\u001b[43m(\u001b[49m\u001b[43mbundle\u001b[49m\u001b[38;5;241;43m=\u001b[39;49m\u001b[43mbundle\u001b[49m\u001b[43m,\u001b[49m\u001b[43m \u001b[49m\u001b[43mflow\u001b[49m\u001b[38;5;241;43m=\u001b[39;49m\u001b[43mflow\u001b[49m\u001b[43m,\u001b[49m\u001b[43m \u001b[49m\u001b[43mauth\u001b[49m\u001b[38;5;241;43m=\u001b[39;49m\u001b[43mauth\u001b[49m\u001b[43m,\u001b[49m\u001b[43m \u001b[49m\u001b[43mparameters\u001b[49m\u001b[38;5;241;43m=\u001b[39;49m\u001b[43mparameters\u001b[49m\u001b[43m,\u001b[49m\u001b[43m \u001b[49m\u001b[43mrequestBody\u001b[49m\u001b[38;5;241;43m=\u001b[39;49m\u001b[43mrequestBody\u001b[49m\u001b[43m)\u001b[49m\n\u001b[1;32m    198\u001b[0m \u001b[38;5;28;01mreturn\u001b[39;00m results\n",
      "File \u001b[0;32m~/Projects/Wildcard/agents-json/python/agentsjson/core/executor.py:86\u001b[0m, in \u001b[0;36mexecute\u001b[0;34m(bundle, flow, auth, parameters, requestBody)\u001b[0m\n\u001b[1;32m     83\u001b[0m \u001b[38;5;66;03m# Execute each action in order\u001b[39;00m\n\u001b[1;32m     84\u001b[0m \u001b[38;5;28;01mfor\u001b[39;00m action \u001b[38;5;129;01min\u001b[39;00m flow\u001b[38;5;241m.\u001b[39mactions:\n\u001b[1;32m     85\u001b[0m     \u001b[38;5;66;03m# Dynamically import the integration package\u001b[39;00m\n\u001b[0;32m---> 86\u001b[0m     integration_module \u001b[38;5;241m=\u001b[39m \u001b[43mimportlib\u001b[49m\u001b[38;5;241;43m.\u001b[39;49m\u001b[43mimport_module\u001b[49m\u001b[43m(\u001b[49m\n\u001b[1;32m     87\u001b[0m \u001b[43m        \u001b[49m\u001b[38;5;124;43mf\u001b[39;49m\u001b[38;5;124;43m\"\u001b[39;49m\u001b[38;5;124;43m.\u001b[39;49m\u001b[38;5;132;43;01m{\u001b[39;49;00m\u001b[43maction\u001b[49m\u001b[38;5;241;43m.\u001b[39;49m\u001b[43msourceId\u001b[49m\u001b[38;5;132;43;01m}\u001b[39;49;00m\u001b[38;5;124;43m\"\u001b[39;49m\u001b[43m,\u001b[49m\n\u001b[1;32m     88\u001b[0m \u001b[43m        \u001b[49m\u001b[43mpackage\u001b[49m\u001b[38;5;241;43m=\u001b[39;49m\u001b[38;5;124;43m\"\u001b[39;49m\u001b[38;5;124;43magentsjson.integrations\u001b[39;49m\u001b[38;5;124;43m\"\u001b[39;49m\n\u001b[1;32m     89\u001b[0m \u001b[43m    \u001b[49m\u001b[43m)\u001b[49m\n\u001b[1;32m     90\u001b[0m     operation_map_type \u001b[38;5;241m=\u001b[39m integration_module\u001b[38;5;241m.\u001b[39mmap_type \u001b[38;5;66;03m# Describes the type of executor to use\u001b[39;00m\n\u001b[1;32m     91\u001b[0m     operation_map \u001b[38;5;241m=\u001b[39m integration_module\u001b[38;5;241m.\u001b[39mmap\n",
      "File \u001b[0;32m/opt/homebrew/Cellar/python@3.13/3.13.1/Frameworks/Python.framework/Versions/3.13/lib/python3.13/importlib/__init__.py:88\u001b[0m, in \u001b[0;36mimport_module\u001b[0;34m(name, package)\u001b[0m\n\u001b[1;32m     86\u001b[0m             \u001b[38;5;28;01mbreak\u001b[39;00m\n\u001b[1;32m     87\u001b[0m         level \u001b[38;5;241m+\u001b[39m\u001b[38;5;241m=\u001b[39m \u001b[38;5;241m1\u001b[39m\n\u001b[0;32m---> 88\u001b[0m \u001b[38;5;28;01mreturn\u001b[39;00m \u001b[43m_bootstrap\u001b[49m\u001b[38;5;241;43m.\u001b[39;49m\u001b[43m_gcd_import\u001b[49m\u001b[43m(\u001b[49m\u001b[43mname\u001b[49m\u001b[43m[\u001b[49m\u001b[43mlevel\u001b[49m\u001b[43m:\u001b[49m\u001b[43m]\u001b[49m\u001b[43m,\u001b[49m\u001b[43m \u001b[49m\u001b[43mpackage\u001b[49m\u001b[43m,\u001b[49m\u001b[43m \u001b[49m\u001b[43mlevel\u001b[49m\u001b[43m)\u001b[49m\n",
      "File \u001b[0;32m<frozen importlib._bootstrap>:1387\u001b[0m, in \u001b[0;36m_gcd_import\u001b[0;34m(name, package, level)\u001b[0m\n",
      "File \u001b[0;32m<frozen importlib._bootstrap>:1360\u001b[0m, in \u001b[0;36m_find_and_load\u001b[0;34m(name, import_)\u001b[0m\n",
      "File \u001b[0;32m<frozen importlib._bootstrap>:1324\u001b[0m, in \u001b[0;36m_find_and_load_unlocked\u001b[0;34m(name, import_)\u001b[0m\n",
      "\u001b[0;31mModuleNotFoundError\u001b[0m: No module named 'agentsjson.integrations.rootly'"
     ]
    }
   ],
   "source": [
    "from openai import OpenAI\n",
    "from agentsjson.core.executor import execute_flows\n",
    "client = OpenAI(api_key=OPENAI_API_KEY)\n",
    "\n",
    "response = client.chat.completions.create(\n",
    "    model=\"gpt-4o\",\n",
    "    messages=[\n",
    "        {\"role\": \"system\", \"content\": system_prompt},\n",
    "        {\"role\": \"user\", \"content\": query}\n",
    "    ],\n",
    "    tools=core.flows_tools(flows, format=ToolFormat.OPENAI),\n",
    "    temperature=0\n",
    ")\n",
    "\n",
    "response = execute_flows(response, format=core.ToolFormat.OPENAI, bundle=data, flows=flows, auth=auth)\n",
    "\n",
    "response"
   ]
  },
  {
   "cell_type": "code",
   "execution_count": null,
   "metadata": {},
   "outputs": [],
   "source": []
  }
 ],
 "metadata": {
  "kernelspec": {
   "display_name": ".venv",
   "language": "python",
   "name": "python3"
  },
  "language_info": {
   "codemirror_mode": {
    "name": "ipython",
    "version": 3
   },
   "file_extension": ".py",
   "mimetype": "text/x-python",
   "name": "python",
   "nbconvert_exporter": "python",
   "pygments_lexer": "ipython3",
   "version": "3.13.1"
  }
 },
 "nbformat": 4,
 "nbformat_minor": 2
}
